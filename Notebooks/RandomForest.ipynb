{
 "cells": [
  {
   "cell_type": "markdown",
   "metadata": {},
   "source": [
    "### Random Forest Classification Model"
   ]
  },
  {
   "cell_type": "code",
   "execution_count": 1,
   "metadata": {},
   "outputs": [],
   "source": [
    "import pandas as pd\n",
    "import matplotlib.pyplot as plt\n",
    "import seaborn as sns\n",
    "from sklearn.model_selection import train_test_split\n",
    "from sklearn.preprocessing import LabelEncoder\n",
    "from sklearn.ensemble import RandomForestClassifier\n",
    "from sklearn.metrics import accuracy_score, classification_report, confusion_matrix, roc_auc_score, roc_curve\n",
    "from imblearn.over_sampling import SMOTE\n",
    "from sklearn.model_selection import GridSearchCV, KFold"
   ]
  },
  {
   "cell_type": "code",
   "execution_count": 2,
   "metadata": {},
   "outputs": [],
   "source": [
    "# Load the cleaned data\n",
    "df = pd.read_csv('../Data/adult_cleaned.csv')"
   ]
  },
  {
   "cell_type": "markdown",
   "metadata": {},
   "source": [
    "### Label Encoding\n",
    "\n",
    "Label Encoding is a technique used in machine learning to handle categorical data, which are variables that contain a finite set of unique values or categories. In Label Encoding, each category is assigned a unique numerical value.\n",
    "\n",
    "The process involves mapping each category to a numerical label, typically starting from 0 and incrementing for each unique category."
   ]
  },
  {
   "cell_type": "code",
   "execution_count": 3,
   "metadata": {},
   "outputs": [
    {
     "name": "stdout",
     "output_type": "stream",
     "text": [
      "          workclass  label\n",
      "0       Federal-gov      0\n",
      "1         Local-gov      1\n",
      "2           Private      2\n",
      "3      Self-emp-inc      3\n",
      "4  Self-emp-not-inc      4\n",
      "5         State-gov      5\n",
      "6       Without-pay      6\n",
      "\n",
      "       education  label\n",
      "0           10th      0\n",
      "1           11th      1\n",
      "2           12th      2\n",
      "3        1st-4th      3\n",
      "4        5th-6th      4\n",
      "5        7th-8th      5\n",
      "6            9th      6\n",
      "7     Assoc-acdm      7\n",
      "8      Assoc-voc      8\n",
      "9      Bachelors      9\n",
      "10     Doctorate     10\n",
      "11       HS-grad     11\n",
      "12       Masters     12\n",
      "13     Preschool     13\n",
      "14   Prof-school     14\n",
      "15  Some-college     15\n",
      "\n",
      "          marital-status  label\n",
      "0               Divorced      0\n",
      "1      Married-AF-spouse      1\n",
      "2     Married-civ-spouse      2\n",
      "3  Married-spouse-absent      3\n",
      "4          Never-married      4\n",
      "5              Separated      5\n",
      "6                Widowed      6\n",
      "\n",
      "           occupation  label\n",
      "0        Adm-clerical      0\n",
      "1        Armed-Forces      1\n",
      "2        Craft-repair      2\n",
      "3     Exec-managerial      3\n",
      "4     Farming-fishing      4\n",
      "5   Handlers-cleaners      5\n",
      "6   Machine-op-inspct      6\n",
      "7       Other-service      7\n",
      "8     Priv-house-serv      8\n",
      "9      Prof-specialty      9\n",
      "10    Protective-serv     10\n",
      "11              Sales     11\n",
      "12       Tech-support     12\n",
      "13   Transport-moving     13\n",
      "\n",
      "     relationship  label\n",
      "0         Husband      0\n",
      "1   Not-in-family      1\n",
      "2  Other-relative      2\n",
      "3       Own-child      3\n",
      "4       Unmarried      4\n",
      "5            Wife      5\n",
      "\n",
      "                 race  label\n",
      "0  Amer-Indian-Eskimo      0\n",
      "1  Asian-Pac-Islander      1\n",
      "2               Black      2\n",
      "3               Other      3\n",
      "4               White      4\n",
      "\n",
      "      sex  label\n",
      "0  Female      0\n",
      "1    Male      1\n",
      "\n",
      "                native-country  label\n",
      "0                     Cambodia      0\n",
      "1                       Canada      1\n",
      "2                        China      2\n",
      "3                     Columbia      3\n",
      "4                         Cuba      4\n",
      "5           Dominican-Republic      5\n",
      "6                      Ecuador      6\n",
      "7                  El-Salvador      7\n",
      "8                      England      8\n",
      "9                       France      9\n",
      "10                     Germany     10\n",
      "11                      Greece     11\n",
      "12                   Guatemala     12\n",
      "13                       Haiti     13\n",
      "14          Holand-Netherlands     14\n",
      "15                    Honduras     15\n",
      "16                        Hong     16\n",
      "17                     Hungary     17\n",
      "18                       India     18\n",
      "19                        Iran     19\n",
      "20                     Ireland     20\n",
      "21                       Italy     21\n",
      "22                     Jamaica     22\n",
      "23                       Japan     23\n",
      "24                        Laos     24\n",
      "25                      Mexico     25\n",
      "26                   Nicaragua     26\n",
      "27  Outlying-US(Guam-USVI-etc)     27\n",
      "28                        Peru     28\n",
      "29                 Philippines     29\n",
      "30                      Poland     30\n",
      "31                    Portugal     31\n",
      "32                 Puerto-Rico     32\n",
      "33                    Scotland     33\n",
      "34                       South     34\n",
      "35                      Taiwan     35\n",
      "36                    Thailand     36\n",
      "37             Trinadad&Tobago     37\n",
      "38               United-States     38\n",
      "39                     Vietnam     39\n",
      "40                  Yugoslavia     40\n",
      "\n",
      "  income  label\n",
      "0  <=50K      0\n",
      "1   >50K      1\n",
      "\n"
     ]
    }
   ],
   "source": [
    "# label encoding\n",
    "\n",
    "le = LabelEncoder()\n",
    "\n",
    "categorical_columns = df.select_dtypes(include=['object']).columns\n",
    "\n",
    "for col in categorical_columns:\n",
    "    df[col] = le.fit_transform(df[col])\n",
    "    # print the class name and the label for each column as a dataframe\n",
    "    print(pd.DataFrame({col: le.classes_, 'label': le.transform(le.classes_)}))\n",
    "    print()"
   ]
  },
  {
   "cell_type": "code",
   "execution_count": 4,
   "metadata": {},
   "outputs": [
    {
     "data": {
      "text/html": [
       "<div>\n",
       "<style scoped>\n",
       "    .dataframe tbody tr th:only-of-type {\n",
       "        vertical-align: middle;\n",
       "    }\n",
       "\n",
       "    .dataframe tbody tr th {\n",
       "        vertical-align: top;\n",
       "    }\n",
       "\n",
       "    .dataframe thead th {\n",
       "        text-align: right;\n",
       "    }\n",
       "</style>\n",
       "<table border=\"1\" class=\"dataframe\">\n",
       "  <thead>\n",
       "    <tr style=\"text-align: right;\">\n",
       "      <th></th>\n",
       "      <th>age</th>\n",
       "      <th>workclass</th>\n",
       "      <th>fnlwgt</th>\n",
       "      <th>education</th>\n",
       "      <th>marital-status</th>\n",
       "      <th>occupation</th>\n",
       "      <th>relationship</th>\n",
       "      <th>race</th>\n",
       "      <th>sex</th>\n",
       "      <th>capital-gain</th>\n",
       "      <th>capital-loss</th>\n",
       "      <th>hours-per-week</th>\n",
       "      <th>native-country</th>\n",
       "      <th>income</th>\n",
       "    </tr>\n",
       "  </thead>\n",
       "  <tbody>\n",
       "    <tr>\n",
       "      <th>0</th>\n",
       "      <td>39</td>\n",
       "      <td>5</td>\n",
       "      <td>77516</td>\n",
       "      <td>9</td>\n",
       "      <td>4</td>\n",
       "      <td>0</td>\n",
       "      <td>1</td>\n",
       "      <td>4</td>\n",
       "      <td>1</td>\n",
       "      <td>2174</td>\n",
       "      <td>0</td>\n",
       "      <td>40</td>\n",
       "      <td>38</td>\n",
       "      <td>0</td>\n",
       "    </tr>\n",
       "    <tr>\n",
       "      <th>1</th>\n",
       "      <td>50</td>\n",
       "      <td>4</td>\n",
       "      <td>83311</td>\n",
       "      <td>9</td>\n",
       "      <td>2</td>\n",
       "      <td>3</td>\n",
       "      <td>0</td>\n",
       "      <td>4</td>\n",
       "      <td>1</td>\n",
       "      <td>0</td>\n",
       "      <td>0</td>\n",
       "      <td>13</td>\n",
       "      <td>38</td>\n",
       "      <td>0</td>\n",
       "    </tr>\n",
       "    <tr>\n",
       "      <th>2</th>\n",
       "      <td>38</td>\n",
       "      <td>2</td>\n",
       "      <td>215646</td>\n",
       "      <td>11</td>\n",
       "      <td>0</td>\n",
       "      <td>5</td>\n",
       "      <td>1</td>\n",
       "      <td>4</td>\n",
       "      <td>1</td>\n",
       "      <td>0</td>\n",
       "      <td>0</td>\n",
       "      <td>40</td>\n",
       "      <td>38</td>\n",
       "      <td>0</td>\n",
       "    </tr>\n",
       "    <tr>\n",
       "      <th>3</th>\n",
       "      <td>53</td>\n",
       "      <td>2</td>\n",
       "      <td>234721</td>\n",
       "      <td>1</td>\n",
       "      <td>2</td>\n",
       "      <td>5</td>\n",
       "      <td>0</td>\n",
       "      <td>2</td>\n",
       "      <td>1</td>\n",
       "      <td>0</td>\n",
       "      <td>0</td>\n",
       "      <td>40</td>\n",
       "      <td>38</td>\n",
       "      <td>0</td>\n",
       "    </tr>\n",
       "    <tr>\n",
       "      <th>4</th>\n",
       "      <td>28</td>\n",
       "      <td>2</td>\n",
       "      <td>338409</td>\n",
       "      <td>9</td>\n",
       "      <td>2</td>\n",
       "      <td>9</td>\n",
       "      <td>5</td>\n",
       "      <td>2</td>\n",
       "      <td>0</td>\n",
       "      <td>0</td>\n",
       "      <td>0</td>\n",
       "      <td>40</td>\n",
       "      <td>4</td>\n",
       "      <td>0</td>\n",
       "    </tr>\n",
       "  </tbody>\n",
       "</table>\n",
       "</div>"
      ],
      "text/plain": [
       "   age  workclass  fnlwgt  education  marital-status  occupation  \\\n",
       "0   39          5   77516          9               4           0   \n",
       "1   50          4   83311          9               2           3   \n",
       "2   38          2  215646         11               0           5   \n",
       "3   53          2  234721          1               2           5   \n",
       "4   28          2  338409          9               2           9   \n",
       "\n",
       "   relationship  race  sex  capital-gain  capital-loss  hours-per-week  \\\n",
       "0             1     4    1          2174             0              40   \n",
       "1             0     4    1             0             0              13   \n",
       "2             1     4    1             0             0              40   \n",
       "3             0     2    1             0             0              40   \n",
       "4             5     2    0             0             0              40   \n",
       "\n",
       "   native-country  income  \n",
       "0              38       0  \n",
       "1              38       0  \n",
       "2              38       0  \n",
       "3              38       0  \n",
       "4               4       0  "
      ]
     },
     "execution_count": 4,
     "metadata": {},
     "output_type": "execute_result"
    }
   ],
   "source": [
    "df.head()"
   ]
  },
  {
   "cell_type": "code",
   "execution_count": 5,
   "metadata": {},
   "outputs": [],
   "source": [
    "# Split to X and y\n",
    "X = df.drop(columns=['income'])\n",
    "y = df['income']"
   ]
  },
  {
   "cell_type": "code",
   "execution_count": 6,
   "metadata": {},
   "outputs": [
    {
     "data": {
      "image/png": "[encoded data removed]",
      "text/plain": [
       "<Figure size 640x480 with 1 Axes>"
      ]
     },
     "metadata": {},
     "output_type": "display_data"
    }
   ],
   "source": [
    "y.value_counts().plot(kind='bar')\n",
    "plt.title('Income distribution')\n",
    "plt.ylabel('Count')\n",
    "plt.show()"
   ]
  },
  {
   "cell_type": "code",
   "execution_count": 7,
   "metadata": {},
   "outputs": [
    {
     "data": {
      "image/png": "[encoded data removed]",
      "text/plain": [
       "<Figure size 640x480 with 1 Axes>"
      ]
     },
     "metadata": {},
     "output_type": "display_data"
    }
   ],
   "source": [
    "# Over sampling with SMOTE\n",
    "\n",
    "smote = SMOTE(random_state=42)\n",
    "X_sm, y_sm = smote.fit_resample(X, y)\n",
    "\n",
    "y_sm.value_counts().plot(kind='bar')\n",
    "plt.title('Income distribution (Balanced)')\n",
    "plt.ylabel('Count')\n",
    "plt.show()"
   ]
  },
  {
   "cell_type": "code",
   "execution_count": 8,
   "metadata": {},
   "outputs": [],
   "source": [
    "# Split to train and test\n",
    "X_train, X_test, y_train, y_test = train_test_split(X_sm, y_sm, test_size=0.2, random_state=42)"
   ]
  },
  {
   "cell_type": "code",
   "execution_count": 9,
   "metadata": {},
   "outputs": [
    {
     "data": {
      "text/plain": [
       "((54356, 13), (13590, 13))"
      ]
     },
     "execution_count": 9,
     "metadata": {},
     "output_type": "execute_result"
    }
   ],
   "source": [
    "X_train.shape, X_test.shape"
   ]
  },
  {
   "cell_type": "code",
   "execution_count": 10,
   "metadata": {},
   "outputs": [
    {
     "data": {
      "text/plain": [
       "income\n",
       "0    27227\n",
       "1    27129\n",
       "Name: count, dtype: int64"
      ]
     },
     "execution_count": 10,
     "metadata": {},
     "output_type": "execute_result"
    }
   ],
   "source": [
    "y_train.value_counts()"
   ]
  },
  {
   "cell_type": "markdown",
   "metadata": {},
   "source": [
    "### Train the Random Forest Model and Hyper Parameter Optimization with KFold Cross Validations"
   ]
  },
  {
   "cell_type": "code",
   "execution_count": 11,
   "metadata": {},
   "outputs": [
    {
     "name": "stdout",
     "output_type": "stream",
     "text": [
      "Best parameters found:  {'criterion': 'entropy', 'max_depth': 30, 'n_estimators': 100}\n",
      "Best accuracy score found:  0.881779315579203\n"
     ]
    }
   ],
   "source": [
    "model = RandomForestClassifier(random_state=42)\n",
    "\n",
    "param_grid = {\n",
    "    'n_estimators': [100, 150, 200],\n",
    "    'criterion': ['gini', 'entropy'],\n",
    "    'max_depth': [None, 40, 30]\n",
    "}\n",
    "\n",
    "kfold = KFold(n_splits=5, shuffle=True, random_state=42)\n",
    "\n",
    "grid_search = GridSearchCV(estimator=model, param_grid=param_grid, cv=kfold, scoring='accuracy')\n",
    "grid_search.fit(X_train, y_train)\n",
    "\n",
    "print(\"Best parameters found: \", grid_search.best_params_)\n",
    "print(\"Best accuracy score found: \", grid_search.best_score_)"
   ]
  },
  {
   "cell_type": "code",
   "execution_count": 12,
   "metadata": {},
   "outputs": [],
   "source": [
    "best_rf_classifier = grid_search.best_estimator_"
   ]
  },
  {
   "cell_type": "code",
   "execution_count": 13,
   "metadata": {},
   "outputs": [
    {
     "name": "stdout",
     "output_type": "stream",
     "text": [
      "Test classification report: \n",
      "              precision    recall  f1-score   support\n",
      "\n",
      "           0       0.89      0.88      0.89      6746\n",
      "           1       0.88      0.90      0.89      6844\n",
      "\n",
      "    accuracy                           0.89     13590\n",
      "   macro avg       0.89      0.89      0.89     13590\n",
      "weighted avg       0.89      0.89      0.89     13590\n",
      "\n",
      "Test accuracy score:  0.8880058866813834\n",
      "Train accuracy score:  0.9860548973434395\n"
     ]
    }
   ],
   "source": [
    "y_pred = best_rf_classifier.predict(X_test)\n",
    "y_pred_train = best_rf_classifier.predict(X_train)\n",
    "\n",
    "print(\"Test classification report: \")\n",
    "print(classification_report(y_test, y_pred))\n",
    "print(\"Test accuracy score: \", accuracy_score(y_test, y_pred))\n",
    "print(\"Train accuracy score: \", accuracy_score(y_train, y_pred_train))"
   ]
  },
  {
   "cell_type": "code",
   "execution_count": 14,
   "metadata": {},
   "outputs": [
    {
     "data": {
      "image/png": "[encoded data removed]",
      "text/plain": [
       "<Figure size 640x480 with 2 Axes>"
      ]
     },
     "metadata": {},
     "output_type": "display_data"
    }
   ],
   "source": [
    "# Confusion matrix\n",
    "sns.heatmap(confusion_matrix(y_test, y_pred), annot=True, cmap='viridis', fmt='d')\n",
    "plt.xlabel('Predicted')\n",
    "plt.ylabel('True')\n",
    "plt.show()"
   ]
  },
  {
   "cell_type": "code",
   "execution_count": 15,
   "metadata": {},
   "outputs": [
    {
     "data": {
      "image/png": "[encoded data removed]",
      "text/plain": [
       "<Figure size 400x400 with 1 Axes>"
      ]
     },
     "metadata": {},
     "output_type": "display_data"
    }
   ],
   "source": [
    "# get the probability of the positive class (>50k)\n",
    "y_pred_proba = best_rf_classifier.predict_proba(X_test)[:, 1]\n",
    "\n",
    "# get the roc curve\n",
    "fpr, tpr, thresholds = roc_curve(y_test, y_pred_proba)\n",
    "\n",
    "# plot the roc curve\n",
    "plt.figure(figsize=(4,4))\n",
    "plt.plot(fpr, tpr, label=f'AUC: {roc_auc_score(y_test, y_pred_proba):.2f}')\n",
    "plt.plot([0, 1], [0, 1], 'r--')\n",
    "plt.xlabel('False Positive Rate')\n",
    "plt.ylabel('True Positive Rate')\n",
    "plt.title('ROC Curve')\n",
    "plt.legend()\n",
    "plt.show()"
   ]
  }
 ],
 "metadata": {
  "kernelspec": {
   "display_name": ".venv",
   "language": "python",
   "name": "python3"
  },
  "language_info": {
   "codemirror_mode": {
    "name": "ipython",
    "version": 3
   },
   "file_extension": ".py",
   "mimetype": "text/x-python",
   "name": "python",
   "nbconvert_exporter": "python",
   "pygments_lexer": "ipython3",
   "version": "3.10.2"
  }
 },
 "nbformat": 4,
 "nbformat_minor": 2
}
